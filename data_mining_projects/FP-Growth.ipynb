{
 "cells": [
  {
   "cell_type": "code",
   "execution_count": 1,
   "metadata": {},
   "outputs": [],
   "source": [
    "# Import necessary libraries\n",
    "import pandas as pd\n",
    "from mlxtend.preprocessing import TransactionEncoder\n",
    "from mlxtend.frequent_patterns import fpgrowth, association_rules"
   ]
  },
  {
   "cell_type": "code",
   "execution_count": 2,
   "metadata": {},
   "outputs": [],
   "source": [
    "data_ = pd.read_csv(\"anime.csv\", index_col=0)\n",
    "ar = data_.copy()"
   ]
  },
  {
   "cell_type": "code",
   "execution_count": 3,
   "metadata": {},
   "outputs": [],
   "source": [
    "# Ensure 'genre' column contains a list of strings for each anime\n",
    "ar['genre'] = ar['genre'].apply(lambda x: x.split(', ') if isinstance(x, str) else [])"
   ]
  },
  {
   "cell_type": "code",
   "execution_count": 4,
   "metadata": {},
   "outputs": [],
   "source": [
    "ar = ar.dropna(subset=['genre'])"
   ]
  },
  {
   "cell_type": "code",
   "execution_count": 5,
   "metadata": {},
   "outputs": [],
   "source": [
    "# Exclude rows with the \"Hentai\" genre\n",
    "ar = ar[ar['genre'].apply(lambda x: 'Hentai' not in x)]\n",
    "\n",
    "# Filter rows where 'type' is \"TV\"\n",
    "ar = ar[ar['type'] == 'TV']"
   ]
  },
  {
   "cell_type": "code",
   "execution_count": 6,
   "metadata": {},
   "outputs": [],
   "source": [
    "genres_list = ar['genre'].tolist()\n"
   ]
  },
  {
   "cell_type": "code",
   "execution_count": 7,
   "metadata": {},
   "outputs": [],
   "source": [
    "# Encode the data\n",
    "te = TransactionEncoder()\n",
    "te_ary = te.fit(genres_list).transform(genres_list)\n",
    "ar_encoded = pd.DataFrame(te_ary, columns=te.columns_)\n"
   ]
  },
  {
   "cell_type": "code",
   "execution_count": 8,
   "metadata": {},
   "outputs": [
    {
     "data": {
      "text/html": [
       "<div>\n",
       "<style scoped>\n",
       "    .dataframe tbody tr th:only-of-type {\n",
       "        vertical-align: middle;\n",
       "    }\n",
       "\n",
       "    .dataframe tbody tr th {\n",
       "        vertical-align: top;\n",
       "    }\n",
       "\n",
       "    .dataframe thead th {\n",
       "        text-align: right;\n",
       "    }\n",
       "</style>\n",
       "<table border=\"1\" class=\"dataframe\">\n",
       "  <thead>\n",
       "    <tr style=\"text-align: right;\">\n",
       "      <th></th>\n",
       "      <th>antecedents</th>\n",
       "      <th>consequents</th>\n",
       "      <th>support</th>\n",
       "      <th>confidence</th>\n",
       "    </tr>\n",
       "  </thead>\n",
       "  <tbody>\n",
       "    <tr>\n",
       "      <th>0</th>\n",
       "      <td>(Shounen)</td>\n",
       "      <td>(Comedy)</td>\n",
       "      <td>0.099287</td>\n",
       "      <td>0.528090</td>\n",
       "    </tr>\n",
       "    <tr>\n",
       "      <th>1</th>\n",
       "      <td>(Magic)</td>\n",
       "      <td>(Fantasy)</td>\n",
       "      <td>0.055189</td>\n",
       "      <td>0.592068</td>\n",
       "    </tr>\n",
       "    <tr>\n",
       "      <th>2</th>\n",
       "      <td>(Sci-Fi)</td>\n",
       "      <td>(Action)</td>\n",
       "      <td>0.110378</td>\n",
       "      <td>0.540052</td>\n",
       "    </tr>\n",
       "    <tr>\n",
       "      <th>3</th>\n",
       "      <td>(School)</td>\n",
       "      <td>(Comedy)</td>\n",
       "      <td>0.102456</td>\n",
       "      <td>0.684303</td>\n",
       "    </tr>\n",
       "    <tr>\n",
       "      <th>4</th>\n",
       "      <td>(Romance)</td>\n",
       "      <td>(Comedy)</td>\n",
       "      <td>0.104040</td>\n",
       "      <td>0.604294</td>\n",
       "    </tr>\n",
       "    <tr>\n",
       "      <th>5</th>\n",
       "      <td>(Slice of Life)</td>\n",
       "      <td>(Comedy)</td>\n",
       "      <td>0.096910</td>\n",
       "      <td>0.653025</td>\n",
       "    </tr>\n",
       "    <tr>\n",
       "      <th>6</th>\n",
       "      <td>(Mecha)</td>\n",
       "      <td>(Sci-Fi)</td>\n",
       "      <td>0.077106</td>\n",
       "      <td>0.770449</td>\n",
       "    </tr>\n",
       "    <tr>\n",
       "      <th>7</th>\n",
       "      <td>(Mecha)</td>\n",
       "      <td>(Action)</td>\n",
       "      <td>0.062583</td>\n",
       "      <td>0.625330</td>\n",
       "    </tr>\n",
       "  </tbody>\n",
       "</table>\n",
       "</div>"
      ],
      "text/plain": [
       "       antecedents consequents   support  confidence\n",
       "0        (Shounen)    (Comedy)  0.099287    0.528090\n",
       "1          (Magic)   (Fantasy)  0.055189    0.592068\n",
       "2         (Sci-Fi)    (Action)  0.110378    0.540052\n",
       "3         (School)    (Comedy)  0.102456    0.684303\n",
       "4        (Romance)    (Comedy)  0.104040    0.604294\n",
       "5  (Slice of Life)    (Comedy)  0.096910    0.653025\n",
       "6          (Mecha)    (Sci-Fi)  0.077106    0.770449\n",
       "7          (Mecha)    (Action)  0.062583    0.625330"
      ]
     },
     "execution_count": 8,
     "metadata": {},
     "output_type": "execute_result"
    }
   ],
   "source": [
    "# Apply FP-Growth algorithm\n",
    "frequent_itemsets = fpgrowth(ar_encoded, min_support=0.05, use_colnames=True)\n",
    "rules = association_rules(frequent_itemsets, metric=\"confidence\", min_threshold=0.5)\n",
    "rules[['antecedents', 'consequents', 'support', 'confidence']]"
   ]
  }
 ],
 "metadata": {
  "kernelspec": {
   "display_name": "Python 3",
   "language": "python",
   "name": "python3"
  },
  "language_info": {
   "codemirror_mode": {
    "name": "ipython",
    "version": 3
   },
   "file_extension": ".py",
   "mimetype": "text/x-python",
   "name": "python",
   "nbconvert_exporter": "python",
   "pygments_lexer": "ipython3",
   "version": "3.10.2"
  }
 },
 "nbformat": 4,
 "nbformat_minor": 2
}
